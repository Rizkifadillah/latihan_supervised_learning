{
  "nbformat": 4,
  "nbformat_minor": 0,
  "metadata": {
    "colab": {
      "provenance": [],
      "mount_file_id": "1nSA04XGMo2agc6XPpP5caDH0Dp2ueFBO",
      "authorship_tag": "ABX9TyPPYcJruG5a2qEf3BvSYma0",
      "include_colab_link": true
    },
    "kernelspec": {
      "name": "python3",
      "display_name": "Python 3"
    },
    "language_info": {
      "name": "python"
    },
    "widgets": {
      "application/vnd.jupyter.widget-state+json": {
        "ecddbf79ee434f65815956e11fc53778": {
          "model_module": "@jupyter-widgets/controls",
          "model_name": "VBoxModel",
          "model_module_version": "1.5.0",
          "state": {
            "_dom_classes": [
              "widget-interact"
            ],
            "_model_module": "@jupyter-widgets/controls",
            "_model_module_version": "1.5.0",
            "_model_name": "VBoxModel",
            "_view_count": null,
            "_view_module": "@jupyter-widgets/controls",
            "_view_module_version": "1.5.0",
            "_view_name": "VBoxView",
            "box_style": "",
            "children": [
              "IPY_MODEL_a6da0862bfed4ce6bd848621517b7484",
              "IPY_MODEL_73e6a57f13384d3aa4f92874e12bfcb5"
            ],
            "layout": "IPY_MODEL_bdc47a633877420895cd3abc349c56c4"
          }
        },
        "a6da0862bfed4ce6bd848621517b7484": {
          "model_module": "@jupyter-widgets/controls",
          "model_name": "ToggleButtonsModel",
          "model_module_version": "1.5.0",
          "state": {
            "_dom_classes": [],
            "_model_module": "@jupyter-widgets/controls",
            "_model_module_version": "1.5.0",
            "_model_name": "ToggleButtonsModel",
            "_options_labels": [
              "spearman",
              "kendall",
              "pearson",
              "pearson_norm"
            ],
            "_view_count": null,
            "_view_module": "@jupyter-widgets/controls",
            "_view_module_version": "1.5.0",
            "_view_name": "ToggleButtonsView",
            "button_style": "",
            "description": "method",
            "description_tooltip": null,
            "disabled": false,
            "icons": [],
            "index": 0,
            "layout": "IPY_MODEL_1ce09bde6f6b40b38d81094cfd9ce575",
            "style": "IPY_MODEL_3ad961a9b4d5417a937746c802285624",
            "tooltips": []
          }
        },
        "73e6a57f13384d3aa4f92874e12bfcb5": {
          "model_module": "@jupyter-widgets/output",
          "model_name": "OutputModel",
          "model_module_version": "1.0.0",
          "state": {
            "_dom_classes": [],
            "_model_module": "@jupyter-widgets/output",
            "_model_module_version": "1.0.0",
            "_model_name": "OutputModel",
            "_view_count": null,
            "_view_module": "@jupyter-widgets/output",
            "_view_module_version": "1.0.0",
            "_view_name": "OutputView",
            "layout": "IPY_MODEL_ac8e7b06964e4bc1a9ee2881b5e6c274",
            "msg_id": "",
            "outputs": [
              {
                "output_type": "display_data",
                "data": {
                  "text/plain": "interactive(children=(FloatSlider(value=0.0, description='threshold', max=1.0), Output()), _dom_classes=('widg…",
                  "application/vnd.jupyter.widget-view+json": {
                    "version_major": 2,
                    "version_minor": 0,
                    "model_id": "99545808490948febdf8b8bef11ff5d7"
                  }
                },
                "metadata": {}
              }
            ]
          }
        },
        "bdc47a633877420895cd3abc349c56c4": {
          "model_module": "@jupyter-widgets/base",
          "model_name": "LayoutModel",
          "model_module_version": "1.2.0",
          "state": {
            "_model_module": "@jupyter-widgets/base",
            "_model_module_version": "1.2.0",
            "_model_name": "LayoutModel",
            "_view_count": null,
            "_view_module": "@jupyter-widgets/base",
            "_view_module_version": "1.2.0",
            "_view_name": "LayoutView",
            "align_content": null,
            "align_items": null,
            "align_self": null,
            "border": null,
            "bottom": null,
            "display": null,
            "flex": null,
            "flex_flow": null,
            "grid_area": null,
            "grid_auto_columns": null,
            "grid_auto_flow": null,
            "grid_auto_rows": null,
            "grid_column": null,
            "grid_gap": null,
            "grid_row": null,
            "grid_template_areas": null,
            "grid_template_columns": null,
            "grid_template_rows": null,
            "height": null,
            "justify_content": null,
            "justify_items": null,
            "left": null,
            "margin": null,
            "max_height": null,
            "max_width": null,
            "min_height": null,
            "min_width": null,
            "object_fit": null,
            "object_position": null,
            "order": null,
            "overflow": null,
            "overflow_x": null,
            "overflow_y": null,
            "padding": null,
            "right": null,
            "top": null,
            "visibility": null,
            "width": null
          }
        },
        "1ce09bde6f6b40b38d81094cfd9ce575": {
          "model_module": "@jupyter-widgets/base",
          "model_name": "LayoutModel",
          "model_module_version": "1.2.0",
          "state": {
            "_model_module": "@jupyter-widgets/base",
            "_model_module_version": "1.2.0",
            "_model_name": "LayoutModel",
            "_view_count": null,
            "_view_module": "@jupyter-widgets/base",
            "_view_module_version": "1.2.0",
            "_view_name": "LayoutView",
            "align_content": null,
            "align_items": null,
            "align_self": null,
            "border": null,
            "bottom": null,
            "display": null,
            "flex": null,
            "flex_flow": null,
            "grid_area": null,
            "grid_auto_columns": null,
            "grid_auto_flow": null,
            "grid_auto_rows": null,
            "grid_column": null,
            "grid_gap": null,
            "grid_row": null,
            "grid_template_areas": null,
            "grid_template_columns": null,
            "grid_template_rows": null,
            "height": null,
            "justify_content": null,
            "justify_items": null,
            "left": null,
            "margin": null,
            "max_height": null,
            "max_width": null,
            "min_height": null,
            "min_width": null,
            "object_fit": null,
            "object_position": null,
            "order": null,
            "overflow": null,
            "overflow_x": null,
            "overflow_y": null,
            "padding": null,
            "right": null,
            "top": null,
            "visibility": null,
            "width": null
          }
        },
        "3ad961a9b4d5417a937746c802285624": {
          "model_module": "@jupyter-widgets/controls",
          "model_name": "ToggleButtonsStyleModel",
          "model_module_version": "1.5.0",
          "state": {
            "_model_module": "@jupyter-widgets/controls",
            "_model_module_version": "1.5.0",
            "_model_name": "ToggleButtonsStyleModel",
            "_view_count": null,
            "_view_module": "@jupyter-widgets/base",
            "_view_module_version": "1.2.0",
            "_view_name": "StyleView",
            "button_width": "",
            "description_width": "",
            "font_weight": ""
          }
        },
        "99545808490948febdf8b8bef11ff5d7": {
          "model_module": "@jupyter-widgets/controls",
          "model_name": "VBoxModel",
          "model_module_version": "1.5.0",
          "state": {
            "_dom_classes": [
              "widget-interact"
            ],
            "_model_module": "@jupyter-widgets/controls",
            "_model_module_version": "1.5.0",
            "_model_name": "VBoxModel",
            "_view_count": null,
            "_view_module": "@jupyter-widgets/controls",
            "_view_module_version": "1.5.0",
            "_view_name": "VBoxView",
            "box_style": "",
            "children": [
              "IPY_MODEL_7b81a73f2b234ce5b58d7a383108318c",
              "IPY_MODEL_e7cc6e91c0d244e982f7d2f7f264423b"
            ],
            "layout": "IPY_MODEL_cb5024725f2c45d49f733be75ca72b04"
          }
        },
        "ac8e7b06964e4bc1a9ee2881b5e6c274": {
          "model_module": "@jupyter-widgets/base",
          "model_name": "LayoutModel",
          "model_module_version": "1.2.0",
          "state": {
            "_model_module": "@jupyter-widgets/base",
            "_model_module_version": "1.2.0",
            "_model_name": "LayoutModel",
            "_view_count": null,
            "_view_module": "@jupyter-widgets/base",
            "_view_module_version": "1.2.0",
            "_view_name": "LayoutView",
            "align_content": null,
            "align_items": null,
            "align_self": null,
            "border": null,
            "bottom": null,
            "display": null,
            "flex": null,
            "flex_flow": null,
            "grid_area": null,
            "grid_auto_columns": null,
            "grid_auto_flow": null,
            "grid_auto_rows": null,
            "grid_column": null,
            "grid_gap": null,
            "grid_row": null,
            "grid_template_areas": null,
            "grid_template_columns": null,
            "grid_template_rows": null,
            "height": null,
            "justify_content": null,
            "justify_items": null,
            "left": null,
            "margin": null,
            "max_height": null,
            "max_width": null,
            "min_height": null,
            "min_width": null,
            "object_fit": null,
            "object_position": null,
            "order": null,
            "overflow": null,
            "overflow_x": null,
            "overflow_y": null,
            "padding": null,
            "right": null,
            "top": null,
            "visibility": null,
            "width": null
          }
        },
        "7b81a73f2b234ce5b58d7a383108318c": {
          "model_module": "@jupyter-widgets/controls",
          "model_name": "FloatSliderModel",
          "model_module_version": "1.5.0",
          "state": {
            "_dom_classes": [],
            "_model_module": "@jupyter-widgets/controls",
            "_model_module_version": "1.5.0",
            "_model_name": "FloatSliderModel",
            "_view_count": null,
            "_view_module": "@jupyter-widgets/controls",
            "_view_module_version": "1.5.0",
            "_view_name": "FloatSliderView",
            "continuous_update": true,
            "description": "threshold",
            "description_tooltip": null,
            "disabled": false,
            "layout": "IPY_MODEL_cc2399e566cb48179f5c97a08b1829d1",
            "max": 1,
            "min": 0,
            "orientation": "horizontal",
            "readout": true,
            "readout_format": ".2f",
            "step": 0.1,
            "style": "IPY_MODEL_13d33b70413c461daa23b37813d173e8",
            "value": 0
          }
        },
        "e7cc6e91c0d244e982f7d2f7f264423b": {
          "model_module": "@jupyter-widgets/output",
          "model_name": "OutputModel",
          "model_module_version": "1.0.0",
          "state": {
            "_dom_classes": [],
            "_model_module": "@jupyter-widgets/output",
            "_model_module_version": "1.0.0",
            "_model_name": "OutputModel",
            "_view_count": null,
            "_view_module": "@jupyter-widgets/output",
            "_view_module_version": "1.0.0",
            "_view_name": "OutputView",
            "layout": "IPY_MODEL_6075d825d6014a66bb8a3926c933feb2",
            "msg_id": "",
            "outputs": [
              {
                "output_type": "display_data",
                "data": {
                  "text/plain": "<Figure size 1080x504 with 2 Axes>",
                  "image/png": "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\n"
                },
                "metadata": {
                  "needs_background": "light"
                }
              }
            ]
          }
        },
        "cb5024725f2c45d49f733be75ca72b04": {
          "model_module": "@jupyter-widgets/base",
          "model_name": "LayoutModel",
          "model_module_version": "1.2.0",
          "state": {
            "_model_module": "@jupyter-widgets/base",
            "_model_module_version": "1.2.0",
            "_model_name": "LayoutModel",
            "_view_count": null,
            "_view_module": "@jupyter-widgets/base",
            "_view_module_version": "1.2.0",
            "_view_name": "LayoutView",
            "align_content": null,
            "align_items": null,
            "align_self": null,
            "border": null,
            "bottom": null,
            "display": null,
            "flex": null,
            "flex_flow": null,
            "grid_area": null,
            "grid_auto_columns": null,
            "grid_auto_flow": null,
            "grid_auto_rows": null,
            "grid_column": null,
            "grid_gap": null,
            "grid_row": null,
            "grid_template_areas": null,
            "grid_template_columns": null,
            "grid_template_rows": null,
            "height": null,
            "justify_content": null,
            "justify_items": null,
            "left": null,
            "margin": null,
            "max_height": null,
            "max_width": null,
            "min_height": null,
            "min_width": null,
            "object_fit": null,
            "object_position": null,
            "order": null,
            "overflow": null,
            "overflow_x": null,
            "overflow_y": null,
            "padding": null,
            "right": null,
            "top": null,
            "visibility": null,
            "width": null
          }
        },
        "cc2399e566cb48179f5c97a08b1829d1": {
          "model_module": "@jupyter-widgets/base",
          "model_name": "LayoutModel",
          "model_module_version": "1.2.0",
          "state": {
            "_model_module": "@jupyter-widgets/base",
            "_model_module_version": "1.2.0",
            "_model_name": "LayoutModel",
            "_view_count": null,
            "_view_module": "@jupyter-widgets/base",
            "_view_module_version": "1.2.0",
            "_view_name": "LayoutView",
            "align_content": null,
            "align_items": null,
            "align_self": null,
            "border": null,
            "bottom": null,
            "display": null,
            "flex": null,
            "flex_flow": null,
            "grid_area": null,
            "grid_auto_columns": null,
            "grid_auto_flow": null,
            "grid_auto_rows": null,
            "grid_column": null,
            "grid_gap": null,
            "grid_row": null,
            "grid_template_areas": null,
            "grid_template_columns": null,
            "grid_template_rows": null,
            "height": null,
            "justify_content": null,
            "justify_items": null,
            "left": null,
            "margin": null,
            "max_height": null,
            "max_width": null,
            "min_height": null,
            "min_width": null,
            "object_fit": null,
            "object_position": null,
            "order": null,
            "overflow": null,
            "overflow_x": null,
            "overflow_y": null,
            "padding": null,
            "right": null,
            "top": null,
            "visibility": null,
            "width": null
          }
        },
        "13d33b70413c461daa23b37813d173e8": {
          "model_module": "@jupyter-widgets/controls",
          "model_name": "SliderStyleModel",
          "model_module_version": "1.5.0",
          "state": {
            "_model_module": "@jupyter-widgets/controls",
            "_model_module_version": "1.5.0",
            "_model_name": "SliderStyleModel",
            "_view_count": null,
            "_view_module": "@jupyter-widgets/base",
            "_view_module_version": "1.2.0",
            "_view_name": "StyleView",
            "description_width": "",
            "handle_color": null
          }
        },
        "6075d825d6014a66bb8a3926c933feb2": {
          "model_module": "@jupyter-widgets/base",
          "model_name": "LayoutModel",
          "model_module_version": "1.2.0",
          "state": {
            "_model_module": "@jupyter-widgets/base",
            "_model_module_version": "1.2.0",
            "_model_name": "LayoutModel",
            "_view_count": null,
            "_view_module": "@jupyter-widgets/base",
            "_view_module_version": "1.2.0",
            "_view_name": "LayoutView",
            "align_content": null,
            "align_items": null,
            "align_self": null,
            "border": null,
            "bottom": null,
            "display": null,
            "flex": null,
            "flex_flow": null,
            "grid_area": null,
            "grid_auto_columns": null,
            "grid_auto_flow": null,
            "grid_auto_rows": null,
            "grid_column": null,
            "grid_gap": null,
            "grid_row": null,
            "grid_template_areas": null,
            "grid_template_columns": null,
            "grid_template_rows": null,
            "height": null,
            "justify_content": null,
            "justify_items": null,
            "left": null,
            "margin": null,
            "max_height": null,
            "max_width": null,
            "min_height": null,
            "min_width": null,
            "object_fit": null,
            "object_position": null,
            "order": null,
            "overflow": null,
            "overflow_x": null,
            "overflow_y": null,
            "padding": null,
            "right": null,
            "top": null,
            "visibility": null,
            "width": null
          }
        }
      }
    }
  },
  "cells": [
    {
      "cell_type": "markdown",
      "metadata": {
        "id": "view-in-github",
        "colab_type": "text"
      },
      "source": [
        "<a href=\"https://colab.research.google.com/github/Rizkifadillah/latihan_supervised_learning/blob/main/05%20-%20Regression%20Evaluation/Part_9b_Correlation_Matrix_(XGBoost).ipynb\" target=\"_parent\"><img src=\"https://colab.research.google.com/assets/colab-badge.svg\" alt=\"Open In Colab\"/></a>"
      ]
    },
    {
      "cell_type": "code",
      "execution_count": 1,
      "metadata": {
        "colab": {
          "base_uri": "https://localhost:8080/"
        },
        "id": "C8gRTbDmflFo",
        "outputId": "992a446b-fe54-4032-c131-9f61265c89f7"
      },
      "outputs": [
        {
          "output_type": "stream",
          "name": "stdout",
          "text": [
            "Looking in indexes: https://pypi.org/simple, https://us-python.pkg.dev/colab-wheels/public/simple/\n",
            "Collecting luwiji\n",
            "  Downloading luwiji-1.2.1.tar.gz (40.3 MB)\n",
            "\u001b[2K     \u001b[90m━━━━━━━━━━━━━━━━━━━━━━━━━━━━━━━━━━━━━━━━\u001b[0m \u001b[32m40.3/40.3 MB\u001b[0m \u001b[31m12.7 MB/s\u001b[0m eta \u001b[36m0:00:00\u001b[0m\n",
            "\u001b[?25h  Preparing metadata (setup.py) ... \u001b[?25l\u001b[?25hdone\n",
            "Requirement already satisfied: numpy in /usr/local/lib/python3.9/dist-packages (from luwiji) (1.22.4)\n",
            "Requirement already satisfied: scipy in /usr/local/lib/python3.9/dist-packages (from luwiji) (1.10.1)\n",
            "Requirement already satisfied: pandas in /usr/local/lib/python3.9/dist-packages (from luwiji) (1.4.4)\n",
            "Requirement already satisfied: scikit-learn in /usr/local/lib/python3.9/dist-packages (from luwiji) (1.2.2)\n",
            "Requirement already satisfied: matplotlib in /usr/local/lib/python3.9/dist-packages (from luwiji) (3.7.1)\n",
            "Requirement already satisfied: ipywidgets in /usr/local/lib/python3.9/dist-packages (from luwiji) (7.7.1)\n",
            "Collecting jcopml\n",
            "  Downloading jcopml-1.2.2.tar.gz (21 kB)\n",
            "  Preparing metadata (setup.py) ... \u001b[?25l\u001b[?25hdone\n",
            "Requirement already satisfied: pillow in /usr/local/lib/python3.9/dist-packages (from luwiji) (8.4.0)\n",
            "Requirement already satisfied: networkx in /usr/local/lib/python3.9/dist-packages (from luwiji) (3.0)\n",
            "Requirement already satisfied: jupyterlab-widgets>=1.0.0 in /usr/local/lib/python3.9/dist-packages (from ipywidgets->luwiji) (3.0.5)\n",
            "Requirement already satisfied: ipykernel>=4.5.1 in /usr/local/lib/python3.9/dist-packages (from ipywidgets->luwiji) (5.3.4)\n",
            "Requirement already satisfied: widgetsnbextension~=3.6.0 in /usr/local/lib/python3.9/dist-packages (from ipywidgets->luwiji) (3.6.2)\n",
            "Requirement already satisfied: traitlets>=4.3.1 in /usr/local/lib/python3.9/dist-packages (from ipywidgets->luwiji) (5.7.1)\n",
            "Requirement already satisfied: ipython-genutils~=0.2.0 in /usr/local/lib/python3.9/dist-packages (from ipywidgets->luwiji) (0.2.0)\n",
            "Requirement already satisfied: ipython>=4.0.0 in /usr/local/lib/python3.9/dist-packages (from ipywidgets->luwiji) (7.9.0)\n",
            "Requirement already satisfied: seaborn in /usr/local/lib/python3.9/dist-packages (from jcopml->luwiji) (0.12.2)\n",
            "Collecting scikit-optimize\n",
            "  Downloading scikit_optimize-0.9.0-py2.py3-none-any.whl (100 kB)\n",
            "\u001b[2K     \u001b[90m━━━━━━━━━━━━━━━━━━━━━━━━━━━━━━━━━━━━━\u001b[0m \u001b[32m100.3/100.3 KB\u001b[0m \u001b[31m883.8 kB/s\u001b[0m eta \u001b[36m0:00:00\u001b[0m\n",
            "\u001b[?25hRequirement already satisfied: statsmodels in /usr/local/lib/python3.9/dist-packages (from jcopml->luwiji) (0.13.5)\n",
            "Requirement already satisfied: python-dateutil>=2.7 in /usr/local/lib/python3.9/dist-packages (from matplotlib->luwiji) (2.8.2)\n",
            "Requirement already satisfied: fonttools>=4.22.0 in /usr/local/lib/python3.9/dist-packages (from matplotlib->luwiji) (4.39.0)\n",
            "Requirement already satisfied: packaging>=20.0 in /usr/local/lib/python3.9/dist-packages (from matplotlib->luwiji) (23.0)\n",
            "Requirement already satisfied: contourpy>=1.0.1 in /usr/local/lib/python3.9/dist-packages (from matplotlib->luwiji) (1.0.7)\n",
            "Requirement already satisfied: kiwisolver>=1.0.1 in /usr/local/lib/python3.9/dist-packages (from matplotlib->luwiji) (1.4.4)\n",
            "Requirement already satisfied: cycler>=0.10 in /usr/local/lib/python3.9/dist-packages (from matplotlib->luwiji) (0.11.0)\n",
            "Requirement already satisfied: pyparsing>=2.3.1 in /usr/local/lib/python3.9/dist-packages (from matplotlib->luwiji) (3.0.9)\n",
            "Requirement already satisfied: importlib-resources>=3.2.0 in /usr/local/lib/python3.9/dist-packages (from matplotlib->luwiji) (5.12.0)\n",
            "Requirement already satisfied: pytz>=2020.1 in /usr/local/lib/python3.9/dist-packages (from pandas->luwiji) (2022.7.1)\n",
            "Requirement already satisfied: joblib>=1.1.1 in /usr/local/lib/python3.9/dist-packages (from scikit-learn->luwiji) (1.1.1)\n",
            "Requirement already satisfied: threadpoolctl>=2.0.0 in /usr/local/lib/python3.9/dist-packages (from scikit-learn->luwiji) (3.1.0)\n",
            "Requirement already satisfied: zipp>=3.1.0 in /usr/local/lib/python3.9/dist-packages (from importlib-resources>=3.2.0->matplotlib->luwiji) (3.15.0)\n",
            "Requirement already satisfied: jupyter-client in /usr/local/lib/python3.9/dist-packages (from ipykernel>=4.5.1->ipywidgets->luwiji) (6.1.12)\n",
            "Requirement already satisfied: tornado>=4.2 in /usr/local/lib/python3.9/dist-packages (from ipykernel>=4.5.1->ipywidgets->luwiji) (6.2)\n",
            "Requirement already satisfied: pexpect in /usr/local/lib/python3.9/dist-packages (from ipython>=4.0.0->ipywidgets->luwiji) (4.8.0)\n",
            "Requirement already satisfied: pygments in /usr/local/lib/python3.9/dist-packages (from ipython>=4.0.0->ipywidgets->luwiji) (2.6.1)\n",
            "Requirement already satisfied: backcall in /usr/local/lib/python3.9/dist-packages (from ipython>=4.0.0->ipywidgets->luwiji) (0.2.0)\n",
            "Requirement already satisfied: prompt-toolkit<2.1.0,>=2.0.0 in /usr/local/lib/python3.9/dist-packages (from ipython>=4.0.0->ipywidgets->luwiji) (2.0.10)\n",
            "Requirement already satisfied: decorator in /usr/local/lib/python3.9/dist-packages (from ipython>=4.0.0->ipywidgets->luwiji) (4.4.2)\n",
            "Requirement already satisfied: setuptools>=18.5 in /usr/local/lib/python3.9/dist-packages (from ipython>=4.0.0->ipywidgets->luwiji) (63.4.3)\n",
            "Requirement already satisfied: pickleshare in /usr/local/lib/python3.9/dist-packages (from ipython>=4.0.0->ipywidgets->luwiji) (0.7.5)\n",
            "Collecting jedi>=0.10\n",
            "  Downloading jedi-0.18.2-py2.py3-none-any.whl (1.6 MB)\n",
            "\u001b[2K     \u001b[90m━━━━━━━━━━━━━━━━━━━━━━━━━━━━━━━━━━━━━━━━\u001b[0m \u001b[32m1.6/1.6 MB\u001b[0m \u001b[31m41.9 MB/s\u001b[0m eta \u001b[36m0:00:00\u001b[0m\n",
            "\u001b[?25hRequirement already satisfied: six>=1.5 in /usr/local/lib/python3.9/dist-packages (from python-dateutil>=2.7->matplotlib->luwiji) (1.15.0)\n",
            "Requirement already satisfied: notebook>=4.4.1 in /usr/local/lib/python3.9/dist-packages (from widgetsnbextension~=3.6.0->ipywidgets->luwiji) (6.3.0)\n",
            "Collecting pyaml>=16.9\n",
            "  Downloading pyaml-21.10.1-py2.py3-none-any.whl (24 kB)\n",
            "Requirement already satisfied: patsy>=0.5.2 in /usr/local/lib/python3.9/dist-packages (from statsmodels->jcopml->luwiji) (0.5.3)\n",
            "Requirement already satisfied: parso<0.9.0,>=0.8.0 in /usr/local/lib/python3.9/dist-packages (from jedi>=0.10->ipython>=4.0.0->ipywidgets->luwiji) (0.8.3)\n",
            "Requirement already satisfied: prometheus-client in /usr/local/lib/python3.9/dist-packages (from notebook>=4.4.1->widgetsnbextension~=3.6.0->ipywidgets->luwiji) (0.16.0)\n",
            "Requirement already satisfied: jinja2 in /usr/local/lib/python3.9/dist-packages (from notebook>=4.4.1->widgetsnbextension~=3.6.0->ipywidgets->luwiji) (3.1.2)\n",
            "Requirement already satisfied: jupyter-core>=4.6.1 in /usr/local/lib/python3.9/dist-packages (from notebook>=4.4.1->widgetsnbextension~=3.6.0->ipywidgets->luwiji) (5.2.0)\n",
            "Requirement already satisfied: nbformat in /usr/local/lib/python3.9/dist-packages (from notebook>=4.4.1->widgetsnbextension~=3.6.0->ipywidgets->luwiji) (5.7.3)\n",
            "Requirement already satisfied: terminado>=0.8.3 in /usr/local/lib/python3.9/dist-packages (from notebook>=4.4.1->widgetsnbextension~=3.6.0->ipywidgets->luwiji) (0.17.1)\n",
            "Requirement already satisfied: pyzmq>=17 in /usr/local/lib/python3.9/dist-packages (from notebook>=4.4.1->widgetsnbextension~=3.6.0->ipywidgets->luwiji) (23.2.1)\n",
            "Requirement already satisfied: Send2Trash>=1.5.0 in /usr/local/lib/python3.9/dist-packages (from notebook>=4.4.1->widgetsnbextension~=3.6.0->ipywidgets->luwiji) (1.8.0)\n",
            "Requirement already satisfied: nbconvert in /usr/local/lib/python3.9/dist-packages (from notebook>=4.4.1->widgetsnbextension~=3.6.0->ipywidgets->luwiji) (6.5.4)\n",
            "Requirement already satisfied: argon2-cffi in /usr/local/lib/python3.9/dist-packages (from notebook>=4.4.1->widgetsnbextension~=3.6.0->ipywidgets->luwiji) (21.3.0)\n",
            "Requirement already satisfied: wcwidth in /usr/local/lib/python3.9/dist-packages (from prompt-toolkit<2.1.0,>=2.0.0->ipython>=4.0.0->ipywidgets->luwiji) (0.2.6)\n",
            "Requirement already satisfied: PyYAML in /usr/local/lib/python3.9/dist-packages (from pyaml>=16.9->scikit-optimize->jcopml->luwiji) (6.0)\n",
            "Requirement already satisfied: ptyprocess>=0.5 in /usr/local/lib/python3.9/dist-packages (from pexpect->ipython>=4.0.0->ipywidgets->luwiji) (0.7.0)\n",
            "Requirement already satisfied: platformdirs>=2.5 in /usr/local/lib/python3.9/dist-packages (from jupyter-core>=4.6.1->notebook>=4.4.1->widgetsnbextension~=3.6.0->ipywidgets->luwiji) (3.1.1)\n",
            "Requirement already satisfied: argon2-cffi-bindings in /usr/local/lib/python3.9/dist-packages (from argon2-cffi->notebook>=4.4.1->widgetsnbextension~=3.6.0->ipywidgets->luwiji) (21.2.0)\n",
            "Requirement already satisfied: MarkupSafe>=2.0 in /usr/local/lib/python3.9/dist-packages (from jinja2->notebook>=4.4.1->widgetsnbextension~=3.6.0->ipywidgets->luwiji) (2.1.2)\n",
            "Requirement already satisfied: lxml in /usr/local/lib/python3.9/dist-packages (from nbconvert->notebook>=4.4.1->widgetsnbextension~=3.6.0->ipywidgets->luwiji) (4.9.2)\n",
            "Requirement already satisfied: bleach in /usr/local/lib/python3.9/dist-packages (from nbconvert->notebook>=4.4.1->widgetsnbextension~=3.6.0->ipywidgets->luwiji) (6.0.0)\n",
            "Requirement already satisfied: pandocfilters>=1.4.1 in /usr/local/lib/python3.9/dist-packages (from nbconvert->notebook>=4.4.1->widgetsnbextension~=3.6.0->ipywidgets->luwiji) (1.5.0)\n",
            "Requirement already satisfied: beautifulsoup4 in /usr/local/lib/python3.9/dist-packages (from nbconvert->notebook>=4.4.1->widgetsnbextension~=3.6.0->ipywidgets->luwiji) (4.11.2)\n",
            "Requirement already satisfied: entrypoints>=0.2.2 in /usr/local/lib/python3.9/dist-packages (from nbconvert->notebook>=4.4.1->widgetsnbextension~=3.6.0->ipywidgets->luwiji) (0.4)\n",
            "Requirement already satisfied: mistune<2,>=0.8.1 in /usr/local/lib/python3.9/dist-packages (from nbconvert->notebook>=4.4.1->widgetsnbextension~=3.6.0->ipywidgets->luwiji) (0.8.4)\n",
            "Requirement already satisfied: defusedxml in /usr/local/lib/python3.9/dist-packages (from nbconvert->notebook>=4.4.1->widgetsnbextension~=3.6.0->ipywidgets->luwiji) (0.7.1)\n",
            "Requirement already satisfied: tinycss2 in /usr/local/lib/python3.9/dist-packages (from nbconvert->notebook>=4.4.1->widgetsnbextension~=3.6.0->ipywidgets->luwiji) (1.2.1)\n",
            "Requirement already satisfied: nbclient>=0.5.0 in /usr/local/lib/python3.9/dist-packages (from nbconvert->notebook>=4.4.1->widgetsnbextension~=3.6.0->ipywidgets->luwiji) (0.7.2)\n",
            "Requirement already satisfied: jupyterlab-pygments in /usr/local/lib/python3.9/dist-packages (from nbconvert->notebook>=4.4.1->widgetsnbextension~=3.6.0->ipywidgets->luwiji) (0.2.2)\n",
            "Requirement already satisfied: jsonschema>=2.6 in /usr/local/lib/python3.9/dist-packages (from nbformat->notebook>=4.4.1->widgetsnbextension~=3.6.0->ipywidgets->luwiji) (4.3.3)\n",
            "Requirement already satisfied: fastjsonschema in /usr/local/lib/python3.9/dist-packages (from nbformat->notebook>=4.4.1->widgetsnbextension~=3.6.0->ipywidgets->luwiji) (2.16.3)\n",
            "Requirement already satisfied: attrs>=17.4.0 in /usr/local/lib/python3.9/dist-packages (from jsonschema>=2.6->nbformat->notebook>=4.4.1->widgetsnbextension~=3.6.0->ipywidgets->luwiji) (22.2.0)\n",
            "Requirement already satisfied: pyrsistent!=0.17.0,!=0.17.1,!=0.17.2,>=0.14.0 in /usr/local/lib/python3.9/dist-packages (from jsonschema>=2.6->nbformat->notebook>=4.4.1->widgetsnbextension~=3.6.0->ipywidgets->luwiji) (0.19.3)\n",
            "Requirement already satisfied: cffi>=1.0.1 in /usr/local/lib/python3.9/dist-packages (from argon2-cffi-bindings->argon2-cffi->notebook>=4.4.1->widgetsnbextension~=3.6.0->ipywidgets->luwiji) (1.15.1)\n",
            "Requirement already satisfied: soupsieve>1.2 in /usr/local/lib/python3.9/dist-packages (from beautifulsoup4->nbconvert->notebook>=4.4.1->widgetsnbextension~=3.6.0->ipywidgets->luwiji) (2.4)\n",
            "Requirement already satisfied: webencodings in /usr/local/lib/python3.9/dist-packages (from bleach->nbconvert->notebook>=4.4.1->widgetsnbextension~=3.6.0->ipywidgets->luwiji) (0.5.1)\n",
            "Requirement already satisfied: pycparser in /usr/local/lib/python3.9/dist-packages (from cffi>=1.0.1->argon2-cffi-bindings->argon2-cffi->notebook>=4.4.1->widgetsnbextension~=3.6.0->ipywidgets->luwiji) (2.21)\n",
            "Building wheels for collected packages: luwiji, jcopml\n",
            "  Building wheel for luwiji (setup.py) ... \u001b[?25l\u001b[?25hdone\n",
            "  Created wheel for luwiji: filename=luwiji-1.2.1-py2.py3-none-any.whl size=40366842 sha256=c882e500f42178d92908b5a5a54bed67327cc0abf69c16118f38ef40b53e043c\n",
            "  Stored in directory: /root/.cache/pip/wheels/1b/49/54/8dfa7de82599da47df8c290f769ade64075dc7a0a2a4fd7414\n",
            "  Building wheel for jcopml (setup.py) ... \u001b[?25l\u001b[?25hdone\n",
            "  Created wheel for jcopml: filename=jcopml-1.2.2-py2.py3-none-any.whl size=32194 sha256=5b2455f798877fb23026cd86f4f40626401a28bd3e73bd5b59cd07248302755d\n",
            "  Stored in directory: /root/.cache/pip/wheels/a6/1c/91/32f7a6b0a9d6bbcef17a7fc0d065f9a9b8d9904551b377b64d\n",
            "Successfully built luwiji jcopml\n",
            "Installing collected packages: pyaml, jedi, scikit-optimize, jcopml, luwiji\n",
            "Successfully installed jcopml-1.2.2 jedi-0.18.2 luwiji-1.2.1 pyaml-21.10.1 scikit-optimize-0.9.0\n"
          ]
        }
      ],
      "source": [
        "pip install luwiji"
      ]
    },
    {
      "cell_type": "code",
      "source": [
        "import numpy as np\n",
        "import pandas as pd\n",
        "\n",
        "from sklearn.model_selection import train_test_split\n",
        "from sklearn.pipeline import Pipeline\n",
        "from sklearn.compose import ColumnTransformer\n",
        "\n",
        "from jcopml.pipeline import num_pipe, cat_pipe\n",
        "from jcopml.utils import save_model, load_model\n",
        "from jcopml.plot import plot_missing_value\n",
        "from jcopml.feature_importance import mean_score_decrease"
      ],
      "metadata": {
        "id": "y3hxK4g3f1ib"
      },
      "execution_count": 2,
      "outputs": []
    },
    {
      "cell_type": "markdown",
      "source": [
        "# *Import Data*"
      ],
      "metadata": {
        "id": "lWAq2ZW7kkiQ"
      }
    },
    {
      "cell_type": "code",
      "source": [
        "df_path = '/content/drive/MyDrive/course_ipynb/Kumpulan_dataset/taxi_fare.csv'\n",
        "df = pd.read_csv(df_path, parse_dates=[\"pickup_datetime\"])\n",
        "df.dropna(inplace=True)\n",
        "\n",
        "pickup_dt = df.pickup_datetime.dt\n",
        "df['year'] = pickup_dt.year\n",
        "df['month'] = pickup_dt.month\n",
        "df['day'] = pickup_dt.dayofweek\n",
        "df['hour'] = pickup_dt.hour\n",
        "df.drop(columns=\"pickup_datetime\", inplace=True)\n",
        "\n",
        "df['distance'] = np.abs(df.pickup_longitude - df.dropoff_longitude) + np.abs(df.pickup_latitude - df.dropoff_latitude)\n",
        "df.drop(columns=['pickup_longitude','dropoff_longitude','pickup_latitude','dropoff_latitude'], inplace=True)\n",
        "df.head()"
      ],
      "metadata": {
        "colab": {
          "base_uri": "https://localhost:8080/",
          "height": 206
        },
        "id": "HQ9BNBT7krKU",
        "outputId": "32f7e9a4-1ff6-47e8-9d7a-12a7dbd1fc46"
      },
      "execution_count": 3,
      "outputs": [
        {
          "output_type": "execute_result",
          "data": {
            "text/plain": [
              "   fare_amount  passenger_count  year  month  day  hour  distance\n",
              "0          4.5              1.0  2009      6    0    17  0.011742\n",
              "1         16.9              1.0  2010      1    1    16  0.107481\n",
              "2          5.7              2.0  2011      8    3     0  0.019212\n",
              "3          7.7              1.0  2012      4    5     4  0.029386\n",
              "4          5.3              1.0  2010      3    1     7  0.027194"
            ],
            "text/html": [
              "\n",
              "  <div id=\"df-0ce7b285-29e1-4a29-8dfe-fbc5f63345ee\">\n",
              "    <div class=\"colab-df-container\">\n",
              "      <div>\n",
              "<style scoped>\n",
              "    .dataframe tbody tr th:only-of-type {\n",
              "        vertical-align: middle;\n",
              "    }\n",
              "\n",
              "    .dataframe tbody tr th {\n",
              "        vertical-align: top;\n",
              "    }\n",
              "\n",
              "    .dataframe thead th {\n",
              "        text-align: right;\n",
              "    }\n",
              "</style>\n",
              "<table border=\"1\" class=\"dataframe\">\n",
              "  <thead>\n",
              "    <tr style=\"text-align: right;\">\n",
              "      <th></th>\n",
              "      <th>fare_amount</th>\n",
              "      <th>passenger_count</th>\n",
              "      <th>year</th>\n",
              "      <th>month</th>\n",
              "      <th>day</th>\n",
              "      <th>hour</th>\n",
              "      <th>distance</th>\n",
              "    </tr>\n",
              "  </thead>\n",
              "  <tbody>\n",
              "    <tr>\n",
              "      <th>0</th>\n",
              "      <td>4.5</td>\n",
              "      <td>1.0</td>\n",
              "      <td>2009</td>\n",
              "      <td>6</td>\n",
              "      <td>0</td>\n",
              "      <td>17</td>\n",
              "      <td>0.011742</td>\n",
              "    </tr>\n",
              "    <tr>\n",
              "      <th>1</th>\n",
              "      <td>16.9</td>\n",
              "      <td>1.0</td>\n",
              "      <td>2010</td>\n",
              "      <td>1</td>\n",
              "      <td>1</td>\n",
              "      <td>16</td>\n",
              "      <td>0.107481</td>\n",
              "    </tr>\n",
              "    <tr>\n",
              "      <th>2</th>\n",
              "      <td>5.7</td>\n",
              "      <td>2.0</td>\n",
              "      <td>2011</td>\n",
              "      <td>8</td>\n",
              "      <td>3</td>\n",
              "      <td>0</td>\n",
              "      <td>0.019212</td>\n",
              "    </tr>\n",
              "    <tr>\n",
              "      <th>3</th>\n",
              "      <td>7.7</td>\n",
              "      <td>1.0</td>\n",
              "      <td>2012</td>\n",
              "      <td>4</td>\n",
              "      <td>5</td>\n",
              "      <td>4</td>\n",
              "      <td>0.029386</td>\n",
              "    </tr>\n",
              "    <tr>\n",
              "      <th>4</th>\n",
              "      <td>5.3</td>\n",
              "      <td>1.0</td>\n",
              "      <td>2010</td>\n",
              "      <td>3</td>\n",
              "      <td>1</td>\n",
              "      <td>7</td>\n",
              "      <td>0.027194</td>\n",
              "    </tr>\n",
              "  </tbody>\n",
              "</table>\n",
              "</div>\n",
              "      <button class=\"colab-df-convert\" onclick=\"convertToInteractive('df-0ce7b285-29e1-4a29-8dfe-fbc5f63345ee')\"\n",
              "              title=\"Convert this dataframe to an interactive table.\"\n",
              "              style=\"display:none;\">\n",
              "        \n",
              "  <svg xmlns=\"http://www.w3.org/2000/svg\" height=\"24px\"viewBox=\"0 0 24 24\"\n",
              "       width=\"24px\">\n",
              "    <path d=\"M0 0h24v24H0V0z\" fill=\"none\"/>\n",
              "    <path d=\"M18.56 5.44l.94 2.06.94-2.06 2.06-.94-2.06-.94-.94-2.06-.94 2.06-2.06.94zm-11 1L8.5 8.5l.94-2.06 2.06-.94-2.06-.94L8.5 2.5l-.94 2.06-2.06.94zm10 10l.94 2.06.94-2.06 2.06-.94-2.06-.94-.94-2.06-.94 2.06-2.06.94z\"/><path d=\"M17.41 7.96l-1.37-1.37c-.4-.4-.92-.59-1.43-.59-.52 0-1.04.2-1.43.59L10.3 9.45l-7.72 7.72c-.78.78-.78 2.05 0 2.83L4 21.41c.39.39.9.59 1.41.59.51 0 1.02-.2 1.41-.59l7.78-7.78 2.81-2.81c.8-.78.8-2.07 0-2.86zM5.41 20L4 18.59l7.72-7.72 1.47 1.35L5.41 20z\"/>\n",
              "  </svg>\n",
              "      </button>\n",
              "      \n",
              "  <style>\n",
              "    .colab-df-container {\n",
              "      display:flex;\n",
              "      flex-wrap:wrap;\n",
              "      gap: 12px;\n",
              "    }\n",
              "\n",
              "    .colab-df-convert {\n",
              "      background-color: #E8F0FE;\n",
              "      border: none;\n",
              "      border-radius: 50%;\n",
              "      cursor: pointer;\n",
              "      display: none;\n",
              "      fill: #1967D2;\n",
              "      height: 32px;\n",
              "      padding: 0 0 0 0;\n",
              "      width: 32px;\n",
              "    }\n",
              "\n",
              "    .colab-df-convert:hover {\n",
              "      background-color: #E2EBFA;\n",
              "      box-shadow: 0px 1px 2px rgba(60, 64, 67, 0.3), 0px 1px 3px 1px rgba(60, 64, 67, 0.15);\n",
              "      fill: #174EA6;\n",
              "    }\n",
              "\n",
              "    [theme=dark] .colab-df-convert {\n",
              "      background-color: #3B4455;\n",
              "      fill: #D2E3FC;\n",
              "    }\n",
              "\n",
              "    [theme=dark] .colab-df-convert:hover {\n",
              "      background-color: #434B5C;\n",
              "      box-shadow: 0px 1px 3px 1px rgba(0, 0, 0, 0.15);\n",
              "      filter: drop-shadow(0px 1px 2px rgba(0, 0, 0, 0.3));\n",
              "      fill: #FFFFFF;\n",
              "    }\n",
              "  </style>\n",
              "\n",
              "      <script>\n",
              "        const buttonEl =\n",
              "          document.querySelector('#df-0ce7b285-29e1-4a29-8dfe-fbc5f63345ee button.colab-df-convert');\n",
              "        buttonEl.style.display =\n",
              "          google.colab.kernel.accessAllowed ? 'block' : 'none';\n",
              "\n",
              "        async function convertToInteractive(key) {\n",
              "          const element = document.querySelector('#df-0ce7b285-29e1-4a29-8dfe-fbc5f63345ee');\n",
              "          const dataTable =\n",
              "            await google.colab.kernel.invokeFunction('convertToInteractive',\n",
              "                                                     [key], {});\n",
              "          if (!dataTable) return;\n",
              "\n",
              "          const docLinkHtml = 'Like what you see? Visit the ' +\n",
              "            '<a target=\"_blank\" href=https://colab.research.google.com/notebooks/data_table.ipynb>data table notebook</a>'\n",
              "            + ' to learn more about interactive tables.';\n",
              "          element.innerHTML = '';\n",
              "          dataTable['output_type'] = 'display_data';\n",
              "          await google.colab.output.renderOutput(dataTable, element);\n",
              "          const docLink = document.createElement('div');\n",
              "          docLink.innerHTML = docLinkHtml;\n",
              "          element.appendChild(docLink);\n",
              "        }\n",
              "      </script>\n",
              "    </div>\n",
              "  </div>\n",
              "  "
            ]
          },
          "metadata": {},
          "execution_count": 3
        }
      ]
    },
    {
      "cell_type": "code",
      "source": [
        "df = df[(df.distance > 0) & (df.fare_amount > 0)]"
      ],
      "metadata": {
        "id": "DXd_-Tm9k-Fq"
      },
      "execution_count": 4,
      "outputs": []
    },
    {
      "cell_type": "code",
      "source": [
        "from jcopml.plot import plot_correlation_matrix"
      ],
      "metadata": {
        "id": "ZF0i_EKglSxZ"
      },
      "execution_count": 5,
      "outputs": []
    },
    {
      "cell_type": "code",
      "source": [
        "plot_correlation_matrix(df, 'fare_amount', numeric_col=['passenger_count', 'year', 'distance'])"
      ],
      "metadata": {
        "colab": {
          "base_uri": "https://localhost:8080/",
          "height": 584,
          "referenced_widgets": [
            "ecddbf79ee434f65815956e11fc53778",
            "a6da0862bfed4ce6bd848621517b7484",
            "73e6a57f13384d3aa4f92874e12bfcb5",
            "bdc47a633877420895cd3abc349c56c4",
            "1ce09bde6f6b40b38d81094cfd9ce575",
            "3ad961a9b4d5417a937746c802285624",
            "99545808490948febdf8b8bef11ff5d7",
            "ac8e7b06964e4bc1a9ee2881b5e6c274",
            "7b81a73f2b234ce5b58d7a383108318c",
            "e7cc6e91c0d244e982f7d2f7f264423b",
            "cb5024725f2c45d49f733be75ca72b04",
            "cc2399e566cb48179f5c97a08b1829d1",
            "13d33b70413c461daa23b37813d173e8",
            "6075d825d6014a66bb8a3926c933feb2"
          ]
        },
        "id": "eKEyp4G0lYVb",
        "outputId": "9466304b-df69-441a-aa0a-c612a55d863d"
      },
      "execution_count": 7,
      "outputs": [
        {
          "output_type": "display_data",
          "data": {
            "text/plain": [
              "interactive(children=(ToggleButtons(description='method', options=('spearman', 'kendall', 'pearson', 'pearson_…"
            ],
            "application/vnd.jupyter.widget-view+json": {
              "version_major": 2,
              "version_minor": 0,
              "model_id": "ecddbf79ee434f65815956e11fc53778"
            }
          },
          "metadata": {}
        }
      ]
    },
    {
      "cell_type": "code",
      "source": [],
      "metadata": {
        "id": "exHLFFqxloyf"
      },
      "execution_count": null,
      "outputs": []
    },
    {
      "cell_type": "markdown",
      "source": [
        "# Dataset Splitting"
      ],
      "metadata": {
        "id": "gpw2YgKolR7p"
      }
    },
    {
      "cell_type": "code",
      "source": [
        "X = df.drop(columns=\"fare_amount\") \n",
        "y = df.fare_amount \n",
        "\n",
        "X_train, X_test, y_train, y_test = train_test_split(X, y, test_size=0.2, random_state=42)\n",
        "X_train.shape, X_test.shape, y_train.shape, y_test.shape\n"
      ],
      "metadata": {
        "colab": {
          "base_uri": "https://localhost:8080/"
        },
        "id": "H-Y0L6W2l4Kv",
        "outputId": "a5f656a8-e5f6-4950-bd76-03c2d562c9a9"
      },
      "execution_count": 8,
      "outputs": [
        {
          "output_type": "execute_result",
          "data": {
            "text/plain": [
              "((14705, 6), (3677, 6), (14705,), (3677,))"
            ]
          },
          "metadata": {},
          "execution_count": 8
        }
      ]
    },
    {
      "cell_type": "markdown",
      "source": [
        "# Training"
      ],
      "metadata": {
        "id": "3N1XZQjEl-Jf"
      }
    },
    {
      "cell_type": "code",
      "source": [
        "from xgboost import XGBRegressor\n",
        "\n",
        "from sklearn.model_selection import RandomizedSearchCV\n",
        "from jcopml.tuning import random_search_params as rsp"
      ],
      "metadata": {
        "id": "i3Tw5wffmB4r"
      },
      "execution_count": 10,
      "outputs": []
    },
    {
      "cell_type": "code",
      "source": [
        "preprocessor = ColumnTransformer([\n",
        "    (\"numeric\", num_pipe(), [\"passenger_count\",\"year\",\"distance\"]),\n",
        "    (\"categoric\", cat_pipe(encoder='onehot'), [\"month\", \"day\",\"hour\"])\n",
        "])\n",
        "\n",
        "pipeline = Pipeline([\n",
        "    ('prep', preprocessor),\n",
        "    ('algo', XGBRegressor(random_state=42))\n",
        "])\n",
        "\n",
        "\n",
        "model = RandomizedSearchCV(pipeline, rsp.xgb_params, cv=3,n_iter=100, n_jobs=-1, verbose=1, random_state=42)\n",
        "model.fit(X_train, y_train)\n",
        "\n",
        "print(model.best_params_)\n",
        "print(model.score(X_train, y_train), model.best_score_, model.score(X_test, y_test))"
      ],
      "metadata": {
        "colab": {
          "base_uri": "https://localhost:8080/"
        },
        "id": "FAYTuUTXmNnb",
        "outputId": "900f39a9-6263-43a6-83dd-ddb42e64689a"
      },
      "execution_count": 11,
      "outputs": [
        {
          "output_type": "stream",
          "name": "stdout",
          "text": [
            "Fitting 3 folds for each of 100 candidates, totalling 300 fits\n",
            "{'algo__colsample_bytree': 0.6024641082463879, 'algo__gamma': 7, 'algo__learning_rate': 0.04764963542138517, 'algo__max_depth': 3, 'algo__n_estimators': 118, 'algo__reg_alpha': 0.8013508750140631, 'algo__reg_lambda': 3.8765111709116367, 'algo__subsample': 0.7435432121325587}\n",
            "0.7987964050714026 0.7846543999972395 0.7893907803696351\n"
          ]
        }
      ]
    }
  ]
}